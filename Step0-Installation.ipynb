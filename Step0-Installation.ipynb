{
 "cells": [
  {
   "cell_type": "code",
   "execution_count": null,
   "id": "dbd61c9b-fb33-4da2-8fde-203ab7842a9e",
   "metadata": {},
   "outputs": [],
   "source": [
    "!pip install transformers\n",
    "!pip install vllm"
   ]
  },
  {
   "cell_type": "code",
   "execution_count": null,
   "id": "d0d16e77-e574-4f3b-a441-0d9a2d4c423e",
   "metadata": {},
   "outputs": [],
   "source": [
    "#Download required models"
   ]
  },
  {
   "cell_type": "code",
   "execution_count": null,
   "id": "78837186-4a24-48c2-adf6-b86cdfc09f5b",
   "metadata": {},
   "outputs": [],
   "source": [
    "from transformers import AutoTokenizer, AutoModelForCausalLM\n",
    "\n",
    "tokenizer = AutoTokenizer.from_pretrained(\"unsloth/Meta-Llama-3.1-8B-Instruct\")\n",
    "model = AutoModelForCausalLM.from_pretrained(\"unsloth/Meta-Llama-3.1-8B-Instruct\")#,device_map = 'cuda')\n"
   ]
  },
  {
   "cell_type": "code",
   "execution_count": null,
   "id": "3d6cdbc8-19c8-4f51-910b-6b5ebaef03d2",
   "metadata": {},
   "outputs": [],
   "source": [
    "from transformers import AutoTokenizer, AutoModelForCausalLM\n",
    "\n",
    "tokenizer = AutoTokenizer.from_pretrained(\"microsoft/phi-4\")\n",
    "model = AutoModelForCausalLM.from_pretrained(\"microsoft/phi-4\")#,device_map = 'cuda')\n"
   ]
  }
 ],
 "metadata": {
  "kernelspec": {
   "display_name": "Python 3 (ipykernel)",
   "language": "python",
   "name": "python3"
  },
  "language_info": {
   "codemirror_mode": {
    "name": "ipython",
    "version": 3
   },
   "file_extension": ".py",
   "mimetype": "text/x-python",
   "name": "python",
   "nbconvert_exporter": "python",
   "pygments_lexer": "ipython3",
   "version": "3.10.13"
  }
 },
 "nbformat": 4,
 "nbformat_minor": 5
}
