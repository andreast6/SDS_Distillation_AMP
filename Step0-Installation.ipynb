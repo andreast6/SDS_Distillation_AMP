{
 "cells": [
  {
   "cell_type": "code",
   "execution_count": 6,
   "id": "d0d16e77-e574-4f3b-a441-0d9a2d4c423e",
   "metadata": {},
   "outputs": [],
   "source": [
    "#Download required models\n",
    "LoadGoliath=False"
   ]
  },
  {
   "cell_type": "code",
   "execution_count": 7,
   "id": "db60255e-b51a-49a1-b125-8a547a7e72f8",
   "metadata": {},
   "outputs": [],
   "source": [
    "import torch\n",
    "import torch.multiprocessing  as mp\n",
    "\n",
    "def DownloadModel(Model):\n",
    "    from transformers import AutoTokenizer, AutoModelForCausalLM\n",
    "\n",
    "    tokenizer = AutoTokenizer.from_pretrained(Model,device_map = 'auto')\n",
    "    model = AutoModelForCausalLM.from_pretrained(Model,device_map = 'auto',torch_dtype=torch.float16)\n"
   ]
  },
  {
   "cell_type": "code",
   "execution_count": 8,
   "id": "a525c6e9-610a-4b88-b022-04aa30593de5",
   "metadata": {},
   "outputs": [
    {
     "name": "stderr",
     "output_type": "stream",
     "text": [
      "/home/cdsw/.local/lib/python3.10/site-packages/tqdm/auto.py:21: TqdmWarning: IProgress not found. Please update jupyter and ipywidgets. See https://ipywidgets.readthedocs.io/en/stable/user_install.html\n",
      "  from .autonotebook import tqdm as notebook_tqdm\n",
      "Loading checkpoint shards: 100%|██████████████████| 4/4 [00:04<00:00,  1.12s/it]\n"
     ]
    }
   ],
   "source": [
    "Model='unsloth/Meta-Llama-3.1-8B-Instruct'\n",
    "p=mp.Process(target=DownloadModel,args=(Model,))\n",
    "p.start()\n",
    "p.join()\n"
   ]
  },
  {
   "cell_type": "code",
   "execution_count": 9,
   "id": "b03869d3-4fba-465a-939d-074fbf85d3e0",
   "metadata": {},
   "outputs": [
    {
     "name": "stderr",
     "output_type": "stream",
     "text": [
      "/home/cdsw/.local/lib/python3.10/site-packages/tqdm/auto.py:21: TqdmWarning: IProgress not found. Please update jupyter and ipywidgets. See https://ipywidgets.readthedocs.io/en/stable/user_install.html\n",
      "  from .autonotebook import tqdm as notebook_tqdm\n",
      "Loading checkpoint shards: 100%|██████████████████| 6/6 [00:06<00:00,  1.06s/it]\n"
     ]
    }
   ],
   "source": [
    "Model='microsoft/phi-4'\n",
    "p=mp.Process(target=DownloadModel,args=(Model,))\n",
    "p.start()\n",
    "p.join()"
   ]
  },
  {
   "cell_type": "code",
   "execution_count": 10,
   "id": "4c734aaa-f85d-4034-859b-7192b37f7d5a",
   "metadata": {},
   "outputs": [],
   "source": [
    "if LoadGoliath==True:\n",
    "  Model='TheBloke/goliath-120b-AWQ'\n",
    "  p=mp.Process(target=DownloadModel,args=(Model,))\n",
    "  p.start()\n",
    "  p.join()"
   ]
  }
 ],
 "metadata": {
  "kernelspec": {
   "display_name": "Python 3 (ipykernel)",
   "language": "python",
   "name": "python3"
  },
  "language_info": {
   "codemirror_mode": {
    "name": "ipython",
    "version": 3
   },
   "file_extension": ".py",
   "mimetype": "text/x-python",
   "name": "python",
   "nbconvert_exporter": "python",
   "pygments_lexer": "ipython3",
   "version": "3.10.13"
  }
 },
 "nbformat": 4,
 "nbformat_minor": 5
}
